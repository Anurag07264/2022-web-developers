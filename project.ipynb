{
  "nbformat": 4,
  "nbformat_minor": 0,
  "metadata": {
    "colab": {
      "provenance": [],
      "authorship_tag": "ABX9TyPZ5ADIimGeDzBDAvpZYQ+Q",
      "include_colab_link": true
    },
    "kernelspec": {
      "name": "python3",
      "display_name": "Python 3"
    },
    "language_info": {
      "name": "python"
    }
  },
  "cells": [
    {
      "cell_type": "markdown",
      "metadata": {
        "id": "view-in-github",
        "colab_type": "text"
      },
      "source": [
        "<a href=\"https://colab.research.google.com/github/Anurag07264/2022-web-developers/blob/main/project.ipynb\" target=\"_parent\"><img src=\"https://colab.research.google.com/assets/colab-badge.svg\" alt=\"Open In Colab\"/></a>"
      ]
    },
    {
      "cell_type": "code",
      "execution_count": null,
      "metadata": {
        "id": "rn1f9S7fTXmK"
      },
      "outputs": [],
      "source": [
        "from google.colab import files\n",
        "uploaded = files.upload()\n"
      ]
    },
    {
      "cell_type": "code",
      "source": [
        "#!unzip archive.zip"
      ],
      "metadata": {
        "id": "sj-YP6FunNRb"
      },
      "execution_count": null,
      "outputs": []
    },
    {
      "cell_type": "code",
      "source": [
        "import os\n",
        "import cv2\n",
        "\n",
        "# Define the base directory of the dataset\n",
        "base_dir = './isl_data_grey_split/train'\n",
        "\n",
        "# Define the labels for each category\n",
        "labels = [str(i) for i in range(0, 10)] + [chr(i) for i in range(ord('a'), ord('z')+1)]\n",
        "\n",
        "# Create a dictionary to map labels to numerical values\n",
        "label_dict = {label: i for i, label in enumerate(labels)}\n",
        "\n",
        "# Initialize an empty list to store the data\n",
        "data = []\n",
        "\n",
        "# Loop over each label in the current category\n",
        "for label in labels:\n",
        "    # Define the path to the current label\n",
        "    path = os.path.join(base_dir, label)\n",
        "    # Loop over each image in the current label directory\n",
        "    for img in os.listdir(path):\n",
        "        # Only process PNG images\n",
        "        if img.endswith('.png'):\n",
        "            # Define the path to the current image\n",
        "            img_path = os.path.join(path, img)\n",
        "            # Read the image\n",
        "            image = cv2.imread(img_path, cv2.IMREAD_GRAYSCALE)\n",
        "            # Resize the image to 64x64 pixels\n",
        "            image = cv2.resize(image, (64, 64))\n",
        "            # Append the image and its numerical label to the data list\n",
        "            data.append([image, label_dict[label]])\n",
        "\n",
        "# At this point, the 'data' list contains all preprocessed images and their corresponding numerical labels\n",
        "print(data)"
      ],
      "metadata": {
        "id": "mg2Ruj5JkZWl"
      },
      "execution_count": null,
      "outputs": []
    },
    {
      "cell_type": "code",
      "source": [],
      "metadata": {
        "id": "JM1G7Ms-qRkr"
      },
      "execution_count": null,
      "outputs": []
    },
    {
      "cell_type": "code",
      "source": [
        "import tensorflow as tf\n",
        "from tensorflow.keras.models import Sequential\n",
        "from tensorflow.keras.layers import Dense, Dropout, Flatten\n",
        "from tensorflow.keras.layers import Conv2D, MaxPooling2D\n",
        "from sklearn.model_selection import train_test_split\n",
        "import numpy as np\n",
        "\n",
        "# Assuming 'data' is your preprocessed data\n",
        "images, labels = zip(*data)\n",
        "\n",
        "# Convert the list to numpy arrays\n",
        "images = np.array(images)\n",
        "labels = np.array(labels)\n",
        "\n",
        "# Normalize the images\n",
        "images = images / 255.0\n",
        "\n",
        "# Split the data into a training set and a test set\n",
        "train_images, test_images, train_labels, test_labels = train_test_split(images, labels, test_size=0.2, random_state=42)\n",
        "\n",
        "# Reshape the data to fit the model\n",
        "train_images = train_images.reshape(-1, 64, 64, 1)\n",
        "test_images = test_images.reshape(-1, 64, 64, 1)\n",
        "\n",
        "# Create the model\n",
        "model = Sequential()\n",
        "\n",
        "# Add the layers\n",
        "model.add(Conv2D(32, kernel_size=(3, 3), activation='relu', input_shape=(64, 64, 1)))\n",
        "model.add(MaxPooling2D(pool_size=(2, 2)))\n",
        "model.add(Dropout(0.25))\n",
        "\n",
        "model.add(Conv2D(64, kernel_size=(3, 3), activation='relu'))\n",
        "model.add(MaxPooling2D(pool_size=(2, 2)))\n",
        "model.add(Dropout(0.25))\n",
        "\n",
        "model.add(Flatten())\n",
        "model.add(Dense(128, activation='relu'))\n",
        "model.add(Dropout(0.5))\n",
        "model.add(Dense(len(np.unique(labels)), activation='softmax'))  # The number of nodes in the last layer should match the number of classes\n",
        "\n",
        "# Compile the model\n",
        "model.compile(loss=tf.keras.losses.SparseCategoricalCrossentropy(), optimizer='adam', metrics=['accuracy'])\n",
        "\n",
        "# Train the model\n",
        "model.fit(train_images, train_labels, validation_data=(test_images, test_labels), epochs=10)\n",
        "\n",
        "# Save the model\n",
        "model.save('my_model.h5')\n"
      ],
      "metadata": {
        "colab": {
          "base_uri": "https://localhost:8080/"
        },
        "id": "7rK6W7GyTnFh",
        "outputId": "5dd29d68-a52b-42c4-ad9d-714ad4164fb0"
      },
      "execution_count": null,
      "outputs": [
        {
          "output_type": "stream",
          "name": "stdout",
          "text": [
            "Epoch 1/10\n",
            "488/488 [==============================] - 85s 172ms/step - loss: 1.0205 - accuracy: 0.7105 - val_loss: 0.0616 - val_accuracy: 0.9861\n",
            "Epoch 2/10\n",
            "488/488 [==============================] - 91s 186ms/step - loss: 0.2910 - accuracy: 0.9009 - val_loss: 0.0340 - val_accuracy: 0.9918\n",
            "Epoch 3/10\n",
            "488/488 [==============================] - 86s 176ms/step - loss: 0.2265 - accuracy: 0.9198 - val_loss: 0.0212 - val_accuracy: 0.9938\n",
            "Epoch 4/10\n",
            "488/488 [==============================] - 86s 176ms/step - loss: 0.1697 - accuracy: 0.9387 - val_loss: 0.0194 - val_accuracy: 0.9944\n",
            "Epoch 5/10\n",
            "488/488 [==============================] - 92s 188ms/step - loss: 0.1377 - accuracy: 0.9484 - val_loss: 0.0157 - val_accuracy: 0.9959\n",
            "Epoch 6/10\n",
            "488/488 [==============================] - 86s 177ms/step - loss: 0.1274 - accuracy: 0.9544 - val_loss: 0.0125 - val_accuracy: 0.9969\n",
            "Epoch 7/10\n",
            "488/488 [==============================] - 88s 180ms/step - loss: 0.1149 - accuracy: 0.9559 - val_loss: 0.0100 - val_accuracy: 0.9974\n",
            "Epoch 8/10\n",
            "488/488 [==============================] - 87s 179ms/step - loss: 0.1013 - accuracy: 0.9603 - val_loss: 0.0119 - val_accuracy: 0.9959\n",
            "Epoch 9/10\n",
            "488/488 [==============================] - 88s 181ms/step - loss: 0.1037 - accuracy: 0.9610 - val_loss: 0.0085 - val_accuracy: 0.9982\n",
            "Epoch 10/10\n",
            "488/488 [==============================] - 87s 178ms/step - loss: 0.1016 - accuracy: 0.9634 - val_loss: 0.0090 - val_accuracy: 0.9982\n"
          ]
        },
        {
          "output_type": "stream",
          "name": "stderr",
          "text": [
            "/usr/local/lib/python3.10/dist-packages/keras/src/engine/training.py:3079: UserWarning: You are saving your model as an HDF5 file via `model.save()`. This file format is considered legacy. We recommend using instead the native Keras format, e.g. `model.save('my_model.keras')`.\n",
            "  saving_api.save_model(\n"
          ]
        }
      ]
    },
    {
      "cell_type": "code",
      "source": [
        "import os\n",
        "import cv2\n",
        "\n",
        "# Define the base directory of the test dataset\n",
        "base_dir = './isl_data_grey_split/test/'\n",
        "# Define the labels for each category\n",
        "labels = [str(i) for i in range(0, 10)] + [chr(i) for i in range(ord('a'), ord('z')+1)]\n",
        "\n",
        "# Create a dictionary to map labels to numerical values\n",
        "label_dict = {label: i for i, label in enumerate(labels)}\n",
        "\n",
        "# Initialize an empty list to store the test data\n",
        "test_data = []\n",
        "\n",
        "# Loop over each label in the current category\n",
        "for label in labels:\n",
        "    # Define the path to the current label\n",
        "    path = os.path.join(base_dir, label)\n",
        "    # Loop over each image in the current label directory\n",
        "    for img in os.listdir(path):\n",
        "        # Only process PNG images\n",
        "        if img.endswith('.png'):\n",
        "            # Define the path to the current image\n",
        "            img_path = os.path.join(path, img)\n",
        "            # Read the image\n",
        "            image = cv2.imread(img_path, cv2.IMREAD_GRAYSCALE)\n",
        "            # Resize the image to 64x64 pixels\n",
        "            image = cv2.resize(image, (64, 64))\n",
        "            # Append the image and its numerical label to the test data list\n",
        "            test_data.append([image, label_dict[label]])\n",
        "\n",
        "# At this point, the 'test_data' list contains all preprocessed test images and their corresponding numerical labels\n",
        "\n",
        "# Load the model\n",
        "model = load_model('my_model.h5')\n",
        "\n",
        "# Separate the test images and labels\n",
        "test_images, test_labels = zip(*test_data)\n",
        "\n",
        "# Convert the list to numpy arrays\n",
        "test_images = np.array(test_images)\n",
        "test_labels = np.array(test_labels)\n",
        "\n",
        "# Normalize the test images\n",
        "test_images = test_images / 255.0\n",
        "\n",
        "# Reshape the test images to fit the model\n",
        "test_images = test_images.reshape(-1, 64, 64, 1)\n",
        "\n",
        "# Evaluate the model on the test data\n",
        "loss, accuracy = model.evaluate(test_images, test_labels)\n",
        "\n",
        "print(f'The accuracy of the model on the test set is {accuracy * 100:.2f}%')\n"
      ],
      "metadata": {
        "colab": {
          "base_uri": "https://localhost:8080/"
        },
        "id": "1peL2nAhrhcD",
        "outputId": "748f4e67-2ee0-438b-ebe8-bd810e1a58cc"
      },
      "execution_count": null,
      "outputs": [
        {
          "output_type": "stream",
          "name": "stdout",
          "text": [
            "153/153 [==============================] - 7s 45ms/step - loss: 0.0068 - accuracy: 0.9988\n",
            "The accuracy of the model on the test set is 99.88%\n"
          ]
        }
      ]
    },
    {
      "cell_type": "code",
      "source": [
        "import cv2\n",
        "import numpy as np\n",
        "from tensorflow.keras.models import load_model\n",
        "\n",
        "# Load the model\n",
        "model = load_model('my_model.h5')\n",
        "\n",
        "# Start the webcam\n",
        "cap = cv2.VideoCapture(0)\n",
        "\n",
        "while True:\n",
        "    # Capture frame-by-frame\n",
        "    ret, frame = cap.read()\n",
        "\n",
        "    if not ret:\n",
        "        break\n",
        "\n",
        "    # Convert the image to grayscale\n",
        "    image = cv2.cvtColor(frame, cv2.COLOR_BGR2GRAY)\n",
        "\n",
        "    # Resize the image to 64x64 pixels\n",
        "    image = cv2.resize(image, (64, 64))\n",
        "\n",
        "    # Normalize the image\n",
        "    image = image / 255.0\n",
        "\n",
        "    # Reshape the image to fit the model\n",
        "    image = image.reshape(1, 64, 64, 1)\n",
        "\n",
        "    # Make a prediction\n",
        "    prediction = model.predict(image)\n",
        "\n",
        "    # Convert the prediction to a label\n",
        "    label = np.argmax(prediction, axis=1)\n",
        "\n",
        "    # Display the label on the frame\n",
        "    cv2.putText(frame, str(label), (10, 30), cv2.FONT_HERSHEY_SIMPLEX, 1, (0, 0, 255), 2)\n",
        "\n",
        "    # Display the resulting frame\n",
        "    cv2.imshow('Sign Language Recognition', frame)\n",
        "\n",
        "    # Exit the loop if 'q' is pressed\n",
        "    if cv2.waitKey(1) & 0xFF == ord('q'):\n",
        "        break\n",
        "\n",
        "# Release the capture\n",
        "cap.release()\n",
        "cv2.destroyAllWindows()\n"
      ],
      "metadata": {
        "id": "eAJTa1ZqqS6D"
      },
      "execution_count": null,
      "outputs": []
    },
    {
      "cell_type": "code",
      "source": [
        "!pip install flask-ngrok\n"
      ],
      "metadata": {
        "colab": {
          "base_uri": "https://localhost:8080/"
        },
        "id": "UYQcENBlnrNo",
        "outputId": "ba69f744-58a2-4b58-fd0b-4a4c9525efaf"
      },
      "execution_count": null,
      "outputs": [
        {
          "output_type": "stream",
          "name": "stdout",
          "text": [
            "Collecting flask-ngrok\n",
            "  Downloading flask_ngrok-0.0.25-py3-none-any.whl (3.1 kB)\n",
            "Requirement already satisfied: Flask>=0.8 in /usr/local/lib/python3.10/dist-packages (from flask-ngrok) (2.2.5)\n",
            "Requirement already satisfied: requests in /usr/local/lib/python3.10/dist-packages (from flask-ngrok) (2.31.0)\n",
            "Requirement already satisfied: Werkzeug>=2.2.2 in /usr/local/lib/python3.10/dist-packages (from Flask>=0.8->flask-ngrok) (3.0.1)\n",
            "Requirement already satisfied: Jinja2>=3.0 in /usr/local/lib/python3.10/dist-packages (from Flask>=0.8->flask-ngrok) (3.1.2)\n",
            "Requirement already satisfied: itsdangerous>=2.0 in /usr/local/lib/python3.10/dist-packages (from Flask>=0.8->flask-ngrok) (2.1.2)\n",
            "Requirement already satisfied: click>=8.0 in /usr/local/lib/python3.10/dist-packages (from Flask>=0.8->flask-ngrok) (8.1.7)\n",
            "Requirement already satisfied: charset-normalizer<4,>=2 in /usr/local/lib/python3.10/dist-packages (from requests->flask-ngrok) (3.3.2)\n",
            "Requirement already satisfied: idna<4,>=2.5 in /usr/local/lib/python3.10/dist-packages (from requests->flask-ngrok) (3.4)\n",
            "Requirement already satisfied: urllib3<3,>=1.21.1 in /usr/local/lib/python3.10/dist-packages (from requests->flask-ngrok) (2.0.7)\n",
            "Requirement already satisfied: certifi>=2017.4.17 in /usr/local/lib/python3.10/dist-packages (from requests->flask-ngrok) (2023.7.22)\n",
            "Requirement already satisfied: MarkupSafe>=2.0 in /usr/local/lib/python3.10/dist-packages (from Jinja2>=3.0->Flask>=0.8->flask-ngrok) (2.1.3)\n",
            "Installing collected packages: flask-ngrok\n",
            "Successfully installed flask-ngrok-0.0.25\n"
          ]
        }
      ]
    },
    {
      "cell_type": "code",
      "source": [
        "from flask import Flask, render_template, request\n",
        "from flask_ngrok import run_with_ngrok\n",
        "import cv2\n",
        "import numpy as np\n",
        "from tensorflow.keras.models import load_model\n",
        "\n",
        "# Load the model\n",
        "model = load_model('my_model.h5')\n",
        "\n",
        "app = Flask(__name__)\n",
        "run_with_ngrok(app)  # Start ngrok when the app is run\n",
        "\n",
        "@app.route('/', methods=['GET', 'POST'])\n",
        "def index():\n",
        "    if request.method == 'POST':\n",
        "        # Get the file from the POST request\n",
        "        file = request.files['file']\n",
        "\n",
        "        # Save the file to ./uploads\n",
        "        file.save('uploads/image.png')\n",
        "\n",
        "        # Load the image\n",
        "        image = cv2.imread('uploads/image.png', cv2.IMREAD_GRAYSCALE)\n",
        "\n",
        "        # Preprocess the image\n",
        "        image = cv2.resize(image, (64, 64))\n",
        "        image = image / 255.0\n",
        "        image = image.reshape(1, 64, 64, 1)\n",
        "\n",
        "        # Make a prediction\n",
        "        prediction = model.predict(image)\n",
        "\n",
        "        # Convert the prediction to a label\n",
        "        label = np.argmax(prediction, axis=1)\n",
        "\n",
        "        # Return the label\n",
        "        return str(label)\n",
        "\n",
        "    return render_template('index.html')\n",
        "\n",
        "if __name__ == '__main__':\n",
        "    app.run()\n"
      ],
      "metadata": {
        "colab": {
          "base_uri": "https://localhost:8080/"
        },
        "id": "0kox-rsexgjn",
        "outputId": "a43f10a2-a2c2-4952-a9e6-fdf80310ad53"
      },
      "execution_count": null,
      "outputs": [
        {
          "metadata": {
            "tags": null
          },
          "name": "stdout",
          "output_type": "stream",
          "text": [
            " * Serving Flask app '__main__'\n",
            " * Debug mode: off\n"
          ]
        },
        {
          "metadata": {
            "tags": null
          },
          "name": "stderr",
          "output_type": "stream",
          "text": [
            "INFO:werkzeug:\u001b[31m\u001b[1mWARNING: This is a development server. Do not use it in a production deployment. Use a production WSGI server instead.\u001b[0m\n",
            " * Running on http://127.0.0.1:5000\n",
            "INFO:werkzeug:\u001b[33mPress CTRL+C to quit\u001b[0m\n"
          ]
        },
        {
          "metadata": {
            "tags": null
          },
          "name": "stdout",
          "output_type": "stream",
          "text": [
            " * Running on http://8312-35-245-232-222.ngrok.io\n",
            " * Traffic stats available on http://127.0.0.1:4040\n"
          ]
        },
        {
          "metadata": {
            "tags": null
          },
          "name": "stderr",
          "output_type": "stream",
          "text": [
            "INFO:werkzeug:127.0.0.1 - - [24/Nov/2023 10:40:04] \"GET / HTTP/1.1\" 200 -\n",
            "INFO:werkzeug:127.0.0.1 - - [24/Nov/2023 10:40:05] \"\u001b[33mGET /favicon.ico HTTP/1.1\u001b[0m\" 404 -\n"
          ]
        }
      ]
    },
    {
      "cell_type": "code",
      "source": [
        "html = \"\"\"\n",
        "<!DOCTYPE html>\n",
        "<html>\n",
        "<body>\n",
        "\n",
        "<h2>Upload File</h2>\n",
        "<form action=\"/\" method=\"post\" enctype=\"multipart/form-data\">\n",
        "  Select image to upload:\n",
        "  <input type=\"file\" name=\"file\" id=\"file\">\n",
        "  <input type=\"submit\" value=\"Upload Image\" name=\"submit\">\n",
        "</form>\n",
        "\n",
        "</body>\n",
        "</html>\n",
        "\"\"\"\n",
        "\n",
        "# Write the HTML content to 'templates/index.html'\n",
        "os.makedirs('templates', exist_ok=True)\n",
        "with open('templates/index.html', 'w') as f:\n",
        "    f.write(html)\n"
      ],
      "metadata": {
        "id": "FIPzINWhyQad"
      },
      "execution_count": null,
      "outputs": []
    },
    {
      "cell_type": "code",
      "source": [],
      "metadata": {
        "id": "pBNQMING6dDd"
      },
      "execution_count": null,
      "outputs": []
    }
  ]
}