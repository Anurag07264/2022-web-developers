{
  "nbformat": 4,
  "nbformat_minor": 0,
  "metadata": {
    "colab": {
      "provenance": [],
      "authorship_tag": "ABX9TyOUzaB3pz1fXEMY0NCqGrBL",
      "include_colab_link": true
    },
    "kernelspec": {
      "name": "python3",
      "display_name": "Python 3"
    },
    "language_info": {
      "name": "python"
    },
    "widgets": {
      "application/vnd.jupyter.widget-state+json": {
        "d0ec75e35bcd4f04abe7ccbc30285fca": {
          "model_module": "@jupyter-widgets/controls",
          "model_name": "FileUploadModel",
          "model_module_version": "1.5.0",
          "state": {
            "_counter": 2,
            "_dom_classes": [],
            "_model_module": "@jupyter-widgets/controls",
            "_model_module_version": "1.5.0",
            "_model_name": "FileUploadModel",
            "_view_count": null,
            "_view_module": "@jupyter-widgets/controls",
            "_view_module_version": "1.5.0",
            "_view_name": "FileUploadView",
            "accept": ".png",
            "button_style": "",
            "data": [
              null
            ],
            "description": "Upload",
            "description_tooltip": null,
            "disabled": false,
            "error": "",
            "icon": "upload",
            "layout": "IPY_MODEL_ad7580ac5fbd4d2ba1b9c95f36fcfec9",
            "metadata": [
              {
                "name": "11.png",
                "type": "image/png",
                "size": 1965,
                "lastModified": 1700808829275
              }
            ],
            "multiple": false,
            "style": "IPY_MODEL_d7afc3d46e2340dcb8a4c5c59fa7079e"
          }
        },
        "ad7580ac5fbd4d2ba1b9c95f36fcfec9": {
          "model_module": "@jupyter-widgets/base",
          "model_name": "LayoutModel",
          "model_module_version": "1.2.0",
          "state": {
            "_model_module": "@jupyter-widgets/base",
            "_model_module_version": "1.2.0",
            "_model_name": "LayoutModel",
            "_view_count": null,
            "_view_module": "@jupyter-widgets/base",
            "_view_module_version": "1.2.0",
            "_view_name": "LayoutView",
            "align_content": null,
            "align_items": null,
            "align_self": null,
            "border": null,
            "bottom": null,
            "display": null,
            "flex": null,
            "flex_flow": null,
            "grid_area": null,
            "grid_auto_columns": null,
            "grid_auto_flow": null,
            "grid_auto_rows": null,
            "grid_column": null,
            "grid_gap": null,
            "grid_row": null,
            "grid_template_areas": null,
            "grid_template_columns": null,
            "grid_template_rows": null,
            "height": null,
            "justify_content": null,
            "justify_items": null,
            "left": null,
            "margin": null,
            "max_height": null,
            "max_width": null,
            "min_height": null,
            "min_width": null,
            "object_fit": null,
            "object_position": null,
            "order": null,
            "overflow": null,
            "overflow_x": null,
            "overflow_y": null,
            "padding": null,
            "right": null,
            "top": null,
            "visibility": null,
            "width": null
          }
        },
        "d7afc3d46e2340dcb8a4c5c59fa7079e": {
          "model_module": "@jupyter-widgets/controls",
          "model_name": "ButtonStyleModel",
          "model_module_version": "1.5.0",
          "state": {
            "_model_module": "@jupyter-widgets/controls",
            "_model_module_version": "1.5.0",
            "_model_name": "ButtonStyleModel",
            "_view_count": null,
            "_view_module": "@jupyter-widgets/base",
            "_view_module_version": "1.2.0",
            "_view_name": "StyleView",
            "button_color": null,
            "font_weight": ""
          }
        },
        "ab985afebd9e441c88fdedcdfa5b0ea6": {
          "model_module": "@jupyter-widgets/controls",
          "model_name": "ButtonModel",
          "model_module_version": "1.5.0",
          "state": {
            "_dom_classes": [],
            "_model_module": "@jupyter-widgets/controls",
            "_model_module_version": "1.5.0",
            "_model_name": "ButtonModel",
            "_view_count": null,
            "_view_module": "@jupyter-widgets/controls",
            "_view_module_version": "1.5.0",
            "_view_name": "ButtonView",
            "button_style": "",
            "description": "Make a prediction",
            "disabled": false,
            "icon": "",
            "layout": "IPY_MODEL_662364a2423846ee843c299e8ede1424",
            "style": "IPY_MODEL_3396e2a031ff4178bc55587471b4c51c",
            "tooltip": ""
          }
        },
        "662364a2423846ee843c299e8ede1424": {
          "model_module": "@jupyter-widgets/base",
          "model_name": "LayoutModel",
          "model_module_version": "1.2.0",
          "state": {
            "_model_module": "@jupyter-widgets/base",
            "_model_module_version": "1.2.0",
            "_model_name": "LayoutModel",
            "_view_count": null,
            "_view_module": "@jupyter-widgets/base",
            "_view_module_version": "1.2.0",
            "_view_name": "LayoutView",
            "align_content": null,
            "align_items": null,
            "align_self": null,
            "border": null,
            "bottom": null,
            "display": null,
            "flex": null,
            "flex_flow": null,
            "grid_area": null,
            "grid_auto_columns": null,
            "grid_auto_flow": null,
            "grid_auto_rows": null,
            "grid_column": null,
            "grid_gap": null,
            "grid_row": null,
            "grid_template_areas": null,
            "grid_template_columns": null,
            "grid_template_rows": null,
            "height": null,
            "justify_content": null,
            "justify_items": null,
            "left": null,
            "margin": null,
            "max_height": null,
            "max_width": null,
            "min_height": null,
            "min_width": null,
            "object_fit": null,
            "object_position": null,
            "order": null,
            "overflow": null,
            "overflow_x": null,
            "overflow_y": null,
            "padding": null,
            "right": null,
            "top": null,
            "visibility": null,
            "width": null
          }
        },
        "3396e2a031ff4178bc55587471b4c51c": {
          "model_module": "@jupyter-widgets/controls",
          "model_name": "ButtonStyleModel",
          "model_module_version": "1.5.0",
          "state": {
            "_model_module": "@jupyter-widgets/controls",
            "_model_module_version": "1.5.0",
            "_model_name": "ButtonStyleModel",
            "_view_count": null,
            "_view_module": "@jupyter-widgets/base",
            "_view_module_version": "1.2.0",
            "_view_name": "StyleView",
            "button_color": null,
            "font_weight": ""
          }
        }
      }
    }
  },
  "cells": [
    {
      "cell_type": "markdown",
      "metadata": {
        "id": "view-in-github",
        "colab_type": "text"
      },
      "source": [
        "<a href=\"https://colab.research.google.com/github/Anurag07264/2022-web-developers/blob/main/Handgesture%20recognition%20project.ipynb\" target=\"_parent\"><img src=\"https://colab.research.google.com/assets/colab-badge.svg\" alt=\"Open In Colab\"/></a>"
      ]
    },
    {
      "cell_type": "code",
      "execution_count": null,
      "metadata": {
        "id": "rn1f9S7fTXmK"
      },
      "outputs": [],
      "source": [
        "from google.colab import files\n",
        "uploaded = files.upload()\n"
      ]
    },
    {
      "cell_type": "code",
      "source": [
        "#!unzip archive.zip"
      ],
      "metadata": {
        "id": "sj-YP6FunNRb"
      },
      "execution_count": null,
      "outputs": []
    },
    {
      "cell_type": "code",
      "source": [
        "import os\n",
        "import cv2\n",
        "\n",
        "# Define the base directory of the dataset\n",
        "base_dir = './isl_data_grey_split/train'\n",
        "\n",
        "# Define the labels for each category\n",
        "labels = [str(i) for i in range(0, 10)] + [chr(i) for i in range(ord('a'), ord('z')+1)]\n",
        "\n",
        "# Create a dictionary to map labels to numerical values\n",
        "label_dict = {label: i for i, label in enumerate(labels)}\n",
        "\n",
        "# Initialize an empty list to store the data\n",
        "data = []\n",
        "\n",
        "# Loop over each label in the current category\n",
        "for label in labels:\n",
        "    # Define the path to the current label\n",
        "    path = os.path.join(base_dir, label)\n",
        "    # Loop over each image in the current label directory\n",
        "    for img in os.listdir(path):\n",
        "        # Only process PNG images\n",
        "        if img.endswith('.png'):\n",
        "            # Define the path to the current image\n",
        "            img_path = os.path.join(path, img)\n",
        "            # Read the image\n",
        "            image = cv2.imread(img_path, cv2.IMREAD_GRAYSCALE)\n",
        "            # Resize the image to 64x64 pixels\n",
        "            image = cv2.resize(image, (64, 64))\n",
        "            # Append the image and its numerical label to the data list\n",
        "            data.append([image, label_dict[label]])\n",
        "\n",
        "# At this point, the 'data' list contains all preprocessed images and their corresponding numerical labels\n",
        "print(data)"
      ],
      "metadata": {
        "id": "mg2Ruj5JkZWl",
        "colab": {
          "base_uri": "https://localhost:8080/"
        },
        "outputId": "e41aefe2-bac7-418a-cd04-7424bfc01d62"
      },
      "execution_count": 1,
      "outputs": [
        {
          "output_type": "stream",
          "name": "stderr",
          "text": [
            "IOPub data rate exceeded.\n",
            "The notebook server will temporarily stop sending output\n",
            "to the client in order to avoid crashing it.\n",
            "To change this limit, set the config variable\n",
            "`--NotebookApp.iopub_data_rate_limit`.\n",
            "\n",
            "Current values:\n",
            "NotebookApp.iopub_data_rate_limit=1000000.0 (bytes/sec)\n",
            "NotebookApp.rate_limit_window=3.0 (secs)\n",
            "\n"
          ]
        }
      ]
    },
    {
      "cell_type": "code",
      "source": [],
      "metadata": {
        "id": "JM1G7Ms-qRkr"
      },
      "execution_count": null,
      "outputs": []
    },
    {
      "cell_type": "code",
      "source": [
        "import tensorflow as tf\n",
        "from tensorflow.keras.models import Sequential\n",
        "from tensorflow.keras.layers import Dense, Dropout, Flatten\n",
        "from tensorflow.keras.layers import Conv2D, MaxPooling2D\n",
        "from sklearn.model_selection import train_test_split\n",
        "import numpy as np\n",
        "\n",
        "# Assuming 'data' is your preprocessed data\n",
        "images, labels = zip(*data)\n",
        "\n",
        "# Convert the list to numpy arrays\n",
        "images = np.array(images)\n",
        "labels = np.array(labels)\n",
        "\n",
        "# Normalize the images\n",
        "images = images / 255.0\n",
        "\n",
        "# Split the data into a training set and a test set\n",
        "train_images, test_images, train_labels, test_labels = train_test_split(images, labels, test_size=0.2, random_state=42)\n",
        "\n",
        "# Reshape the data to fit the model\n",
        "train_images = train_images.reshape(-1, 64, 64, 1)\n",
        "test_images = test_images.reshape(-1, 64, 64, 1)\n",
        "\n",
        "# Create the model\n",
        "model = Sequential()\n",
        "\n",
        "# Add the layers\n",
        "model.add(Conv2D(32, kernel_size=(3, 3), activation='relu', input_shape=(64, 64, 1)))\n",
        "model.add(MaxPooling2D(pool_size=(2, 2)))\n",
        "model.add(Dropout(0.25))\n",
        "\n",
        "model.add(Conv2D(64, kernel_size=(3, 3), activation='relu'))\n",
        "model.add(MaxPooling2D(pool_size=(2, 2)))\n",
        "model.add(Dropout(0.25))\n",
        "\n",
        "model.add(Flatten())\n",
        "model.add(Dense(128, activation='relu'))\n",
        "model.add(Dropout(0.5))\n",
        "model.add(Dense(len(np.unique(labels)), activation='softmax'))  # The number of nodes in the last layer should match the number of classes\n",
        "\n",
        "# Compile the model\n",
        "model.compile(loss=tf.keras.losses.SparseCategoricalCrossentropy(), optimizer='adam', metrics=['accuracy'])\n",
        "\n",
        "# Train the model\n",
        "model.fit(train_images, train_labels, validation_data=(test_images, test_labels), epochs=10)\n",
        "\n",
        "# Save the model\n",
        "model.save('my_model.h5')\n"
      ],
      "metadata": {
        "colab": {
          "base_uri": "https://localhost:8080/"
        },
        "id": "7rK6W7GyTnFh",
        "outputId": "c570a9d7-fa3a-41d9-ac1f-6d385c089a29"
      },
      "execution_count": 3,
      "outputs": [
        {
          "output_type": "stream",
          "name": "stdout",
          "text": [
            "Epoch 1/10\n",
            "488/488 [==============================] - 86s 174ms/step - loss: 0.8457 - accuracy: 0.7620 - val_loss: 0.0423 - val_accuracy: 0.9892\n",
            "Epoch 2/10\n",
            "488/488 [==============================] - 82s 169ms/step - loss: 0.2209 - accuracy: 0.9267 - val_loss: 0.0213 - val_accuracy: 0.9941\n",
            "Epoch 3/10\n",
            "488/488 [==============================] - 86s 176ms/step - loss: 0.1669 - accuracy: 0.9418 - val_loss: 0.0156 - val_accuracy: 0.9956\n",
            "Epoch 4/10\n",
            "488/488 [==============================] - 89s 183ms/step - loss: 0.1283 - accuracy: 0.9537 - val_loss: 0.0144 - val_accuracy: 0.9951\n",
            "Epoch 5/10\n",
            "488/488 [==============================] - 85s 174ms/step - loss: 0.1117 - accuracy: 0.9600 - val_loss: 0.0103 - val_accuracy: 0.9969\n",
            "Epoch 6/10\n",
            "488/488 [==============================] - 84s 172ms/step - loss: 0.0922 - accuracy: 0.9652 - val_loss: 0.0092 - val_accuracy: 0.9972\n",
            "Epoch 7/10\n",
            "488/488 [==============================] - 83s 169ms/step - loss: 0.0865 - accuracy: 0.9686 - val_loss: 0.0105 - val_accuracy: 0.9977\n",
            "Epoch 8/10\n",
            "488/488 [==============================] - 84s 172ms/step - loss: 0.0770 - accuracy: 0.9706 - val_loss: 0.0083 - val_accuracy: 0.9982\n",
            "Epoch 9/10\n",
            "488/488 [==============================] - 83s 170ms/step - loss: 0.0742 - accuracy: 0.9736 - val_loss: 0.0076 - val_accuracy: 0.9985\n",
            "Epoch 10/10\n",
            "488/488 [==============================] - 84s 173ms/step - loss: 0.0758 - accuracy: 0.9718 - val_loss: 0.0068 - val_accuracy: 0.9985\n"
          ]
        },
        {
          "output_type": "stream",
          "name": "stderr",
          "text": [
            "/usr/local/lib/python3.10/dist-packages/keras/src/engine/training.py:3079: UserWarning: You are saving your model as an HDF5 file via `model.save()`. This file format is considered legacy. We recommend using instead the native Keras format, e.g. `model.save('my_model.keras')`.\n",
            "  saving_api.save_model(\n"
          ]
        }
      ]
    },
    {
      "cell_type": "code",
      "source": [
        "import os\n",
        "import cv2\n",
        "from keras.models import load_model\n",
        "# Define the base directory of the test dataset\n",
        "base_dir = './isl_data_grey_split/test/'\n",
        "# Define the labels for each category\n",
        "labels = [str(i) for i in range(0, 10)] + [chr(i) for i in range(ord('a'), ord('z')+1)]\n",
        "\n",
        "# Create a dictionary to map labels to numerical values\n",
        "label_dict = {label: i for i, label in enumerate(labels)}\n",
        "\n",
        "# Initialize an empty list to store the test data\n",
        "test_data = []\n",
        "\n",
        "# Loop over each label in the current category\n",
        "for label in labels:\n",
        "    # Define the path to the current label\n",
        "    path = os.path.join(base_dir, label)\n",
        "    # Loop over each image in the current label directory\n",
        "    for img in os.listdir(path):\n",
        "        # Only process PNG images\n",
        "        if img.endswith('.png'):\n",
        "            # Define the path to the current image\n",
        "            img_path = os.path.join(path, img)\n",
        "            # Read the image\n",
        "            image = cv2.imread(img_path, cv2.IMREAD_GRAYSCALE)\n",
        "            # Resize the image to 64x64 pixels\n",
        "            image = cv2.resize(image, (64, 64))\n",
        "            # Append the image and its numerical label to the test data list\n",
        "            test_data.append([image, label_dict[label]])\n",
        "\n",
        "# At this point, the 'test_data' list contains all preprocessed test images and their corresponding numerical labels\n",
        "\n",
        "# Load the model\n",
        "model = load_model('my_model.h5')\n",
        "\n",
        "# Separate the test images and labels\n",
        "test_images, test_labels = zip(*test_data)\n",
        "\n",
        "# Convert the list to numpy arrays\n",
        "test_images = np.array(test_images)\n",
        "test_labels = np.array(test_labels)\n",
        "\n",
        "# Normalize the test images\n",
        "test_images = test_images / 255.0\n",
        "\n",
        "# Reshape the test images to fit the model\n",
        "test_images = test_images.reshape(-1, 64, 64, 1)\n",
        "\n",
        "# Evaluate the model on the test data\n",
        "loss, accuracy = model.evaluate(test_images, test_labels)\n",
        "\n",
        "print(f'The accuracy of the model on the test set is {accuracy * 100:.2f}%')\n"
      ],
      "metadata": {
        "colab": {
          "base_uri": "https://localhost:8080/"
        },
        "id": "1peL2nAhrhcD",
        "outputId": "484df0b3-cd10-4c3a-c11b-bd0f434bb803"
      },
      "execution_count": 8,
      "outputs": [
        {
          "output_type": "stream",
          "name": "stdout",
          "text": [
            "153/153 [==============================] - 7s 44ms/step - loss: 0.0064 - accuracy: 0.9992\n",
            "The accuracy of the model on the test set is 99.92%\n"
          ]
        }
      ]
    },
    {
      "cell_type": "code",
      "source": [
        "# import cv2\n",
        "# import numpy as np\n",
        "# from tensorflow.keras.models import load_model\n",
        "\n",
        "# # Load the model\n",
        "# model = load_model('my_model.h5')\n",
        "\n",
        "# # Start the webcam\n",
        "# cap = cv2.VideoCapture(0)\n",
        "\n",
        "# while True:\n",
        "#     # Capture frame-by-frame\n",
        "#     ret, frame = cap.read()\n",
        "\n",
        "#     if not ret:\n",
        "#         break\n",
        "\n",
        "#     # Convert the image to grayscale\n",
        "#     image = cv2.cvtColor(frame, cv2.COLOR_BGR2GRAY)\n",
        "\n",
        "#     # Resize the image to 64x64 pixels\n",
        "#     image = cv2.resize(image, (64, 64))\n",
        "\n",
        "#     # Normalize the image\n",
        "#     image = image / 255.0\n",
        "\n",
        "#     # Reshape the image to fit the model\n",
        "#     image = image.reshape(1, 64, 64, 1)\n",
        "\n",
        "#     # Make a prediction\n",
        "#     prediction = model.predict(image)\n",
        "\n",
        "#     # Convert the prediction to a label\n",
        "#     label = np.argmax(prediction, axis=1)\n",
        "\n",
        "#     # Display the label on the frame\n",
        "#     cv2.putText(frame, str(label), (10, 30), cv2.FONT_HERSHEY_SIMPLEX, 1, (0, 0, 255), 2)\n",
        "\n",
        "#     # Display the resulting frame\n",
        "#     cv2.imshow('Sign Language Recognition', frame)\n",
        "\n",
        "#     # Exit the loop if 'q' is pressed\n",
        "#     if cv2.waitKey(1) & 0xFF == ord('q'):\n",
        "#         break\n",
        "\n",
        "# # Release the capture\n",
        "# cap.release()\n",
        "# cv2.destroyAllWindows()\n"
      ],
      "metadata": {
        "id": "eAJTa1ZqqS6D"
      },
      "execution_count": null,
      "outputs": []
    },
    {
      "cell_type": "code",
      "source": [
        "!pip install flask-ngrok\n"
      ],
      "metadata": {
        "id": "UYQcENBlnrNo"
      },
      "execution_count": null,
      "outputs": []
    },
    {
      "cell_type": "code",
      "source": [
        "# from flask import Flask, render_template, request\n",
        "# from flask_ngrok import run_with_ngrok\n",
        "# import cv2\n",
        "# import numpy as np\n",
        "# from tensorflow.keras.models import load_model\n",
        "\n",
        "# # Load the model\n",
        "# model = load_model('my_model.h5')\n",
        "\n",
        "# app = Flask(__name__)\n",
        "# run_with_ngrok(app)  # Start ngrok when the app is run\n",
        "\n",
        "# @app.route('/', methods=['GET', 'POST'])\n",
        "# def index():\n",
        "#     if request.method == 'POST':\n",
        "#         # Get the file from the POST request\n",
        "#         file = request.files['file']\n",
        "\n",
        "#         # Save the file to ./uploads\n",
        "#         file.save('uploads/image.png')\n",
        "\n",
        "#         # Load the image\n",
        "#         image = cv2.imread('uploads/image.png', cv2.IMREAD_GRAYSCALE)\n",
        "\n",
        "#         # Preprocess the image\n",
        "#         image = cv2.resize(image, (64, 64))\n",
        "#         image = image / 255.0\n",
        "#         image = image.reshape(1, 64, 64, 1)\n",
        "\n",
        "#         # Make a prediction\n",
        "#         prediction = model.predict(image)\n",
        "\n",
        "#         # Convert the prediction to a label\n",
        "#         label = np.argmax(prediction, axis=1)\n",
        "\n",
        "#         # Return the label\n",
        "#         return str(label)\n",
        "\n",
        "#     return render_template('index.html')\n",
        "\n",
        "# if __name__ == '__main__':\n",
        "#     app.run()\n"
      ],
      "metadata": {
        "id": "0kox-rsexgjn"
      },
      "execution_count": null,
      "outputs": []
    },
    {
      "cell_type": "code",
      "source": [
        "# html = \"\"\"\n",
        "# <!DOCTYPE html>\n",
        "# <html>\n",
        "# <body>\n",
        "\n",
        "# <h2>Upload File</h2>\n",
        "# <form action=\"/\" method=\"post\" enctype=\"multipart/form-data\">\n",
        "#   Select image to upload:\n",
        "#   <input type=\"file\" name=\"file\" id=\"file\">\n",
        "#   <input type=\"submit\" value=\"Upload Image\" name=\"submit\">\n",
        "# </form>\n",
        "\n",
        "# </body>\n",
        "# </html>\n",
        "# \"\"\"\n",
        "\n",
        "# # Write the HTML content to 'templates/index.html'\n",
        "# os.makedirs('templates', exist_ok=True)\n",
        "# with open('templates/index.html', 'w') as f:\n",
        "#     f.write(html)\n"
      ],
      "metadata": {
        "id": "FIPzINWhyQad"
      },
      "execution_count": null,
      "outputs": []
    },
    {
      "cell_type": "code",
      "source": [
        "import ipywidgets as widgets\n",
        "from IPython.display import display\n",
        "from PIL import Image\n",
        "import cv2\n",
        "import numpy as np\n",
        "from tensorflow.keras.models import load_model\n",
        "import io\n",
        "\n",
        "# Load the model\n",
        "model = load_model('my_model.h5')\n",
        "\n",
        "# Create a FileUpload widget\n",
        "uploader = widgets.FileUpload(\n",
        "    accept='.png',  # Accepted file extension\n",
        "    multiple=False  # True to accept multiple files upload else False\n",
        ")\n",
        "\n",
        "# Create a Button widget\n",
        "button = widgets.Button(description=\"Make a prediction\")\n",
        "\n",
        "# Define the function to be called when the button is clicked\n",
        "def on_button_clicked(b):\n",
        "    # Get the uploaded file\n",
        "    file = uploader.value[list(uploader.value.keys())[0]]\n",
        "\n",
        "    # Convert the file to an image\n",
        "    image = Image.open(io.BytesIO(file['content']))\n",
        "\n",
        "    # Convert the image to a NumPy array\n",
        "    image = np.array(image)\n",
        "\n",
        "    # Preprocess the image\n",
        "    image = cv2.resize(image, (64, 64))\n",
        "    image = image / 255.0\n",
        "    image = image.reshape(1, 64, 64, 1)\n",
        "\n",
        "    # Make a prediction\n",
        "    prediction = model.predict(image)\n",
        "\n",
        "    # Convert the prediction to a label\n",
        "    label = np.argmax(prediction, axis=1)\n",
        "\n",
        "    # Print the label\n",
        "    print(f\"The predicted label is: {label}\")\n",
        "\n",
        "# Set the function to be called when the button is clicked\n",
        "button.on_click(on_button_clicked)\n",
        "\n",
        "# Display the widgets\n",
        "display(uploader)\n",
        "display(button)\n"
      ],
      "metadata": {
        "id": "pBNQMING6dDd",
        "colab": {
          "base_uri": "https://localhost:8080/",
          "height": 154,
          "referenced_widgets": [
            "d0ec75e35bcd4f04abe7ccbc30285fca",
            "ad7580ac5fbd4d2ba1b9c95f36fcfec9",
            "d7afc3d46e2340dcb8a4c5c59fa7079e",
            "ab985afebd9e441c88fdedcdfa5b0ea6",
            "662364a2423846ee843c299e8ede1424",
            "3396e2a031ff4178bc55587471b4c51c"
          ]
        },
        "outputId": "94d56c3e-e871-434a-ea61-0642facd83e5"
      },
      "execution_count": 15,
      "outputs": [
        {
          "output_type": "display_data",
          "data": {
            "text/plain": [
              "FileUpload(value={}, accept='.png', description='Upload')"
            ],
            "application/vnd.jupyter.widget-view+json": {
              "version_major": 2,
              "version_minor": 0,
              "model_id": "d0ec75e35bcd4f04abe7ccbc30285fca"
            }
          },
          "metadata": {}
        },
        {
          "output_type": "display_data",
          "data": {
            "text/plain": [
              "Button(description='Make a prediction', style=ButtonStyle())"
            ],
            "application/vnd.jupyter.widget-view+json": {
              "version_major": 2,
              "version_minor": 0,
              "model_id": "ab985afebd9e441c88fdedcdfa5b0ea6"
            }
          },
          "metadata": {}
        },
        {
          "output_type": "stream",
          "name": "stdout",
          "text": [
            "1/1 [==============================] - 0s 100ms/step\n",
            "The predicted label is: [0]\n",
            "1/1 [==============================] - 0s 21ms/step\n",
            "The predicted label is: [3]\n"
          ]
        }
      ]
    },
    {
      "cell_type": "code",
      "source": [],
      "metadata": {
        "id": "_m_mxFNIEXLV"
      },
      "execution_count": null,
      "outputs": []
    }
  ]
}